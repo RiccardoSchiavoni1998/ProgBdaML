{
 "cells": [
  {
   "cell_type": "code",
   "execution_count": null,
   "metadata": {},
   "outputs": [],
   "source": [
    "import matplotlib.pyplot as plt\n",
    "import numpy as np\n",
    "import json\n",
    "import statistics\n",
    "import random\n",
    "from collections import Counter\n",
    "\n",
    "filename='stats/reduced_execution_times_parallel.json'"
   ]
  },
  {
   "cell_type": "code",
   "execution_count": null,
   "metadata": {},
   "outputs": [],
   "source": [
    "\n",
    "def get_queries(file, index):\n",
    "    with open(file, 'r') as f:\n",
    "        data = json.load(f)\n",
    "    return data[index]['Times']\n",
    "    #return random.sample(data[index]['Times'], k=900)\n",
    "\n",
    "\n",
    "def gen_isto_perc(values, n_bins, maxV, title):\n",
    "    #max_val=round(max(v),0)+1\n",
    "    title = title\n",
    "    x_label = \"Tempo di esecuzione\"\n",
    "    y_label = \"Numero Query\"\n",
    "    mean = round(statistics.mean(values),2)\n",
    "    stdev = round(statistics.stdev(values),2)\n",
    "    fig, ax = plt.subplots()\n",
    "    ax.set_title(title)\n",
    "    ax.set_xlabel(x_label)\n",
    "    ax.set_ylabel(y_label)\n",
    "    # Creare un istogramma con 10 bins, estendendo fino al valore massimo\n",
    "    counts, bins, patches = ax.hist(values, bins=n_bins, range=(0, maxV), edgecolor='black')\n",
    "    # Calcolare la percentuale di valori in ogni bin\n",
    "    percentages = 100 * counts / len(values)\n",
    "\n",
    "    # Aggiungere le etichette percentuali a ogni bin solo se maggiore di 0\n",
    "    for i in range(n_bins):\n",
    "        if percentages[i] > 0:\n",
    "            ax.text(bins[i]+(bins[i+1]-bins[i])/2, counts[i], f'{percentages[i]:.1f}%', ha='center', va='bottom', fontsize=8)\n",
    "    \n",
    "    # Aggiungere la legenda con le informazioni sulle percentuali in alto a destra\n",
    "    info_text = f'Media: {mean:.2f}\\nDeviazione Standard: {stdev:.2f}'\n",
    "    props = dict(boxstyle='round', facecolor='white', alpha=0.5)\n",
    "    ax.text(0.95, 0.95, info_text, transform=ax.transAxes, fontsize=12,\n",
    "            verticalalignment='top', horizontalalignment='right', bbox=props)\n",
    "\n",
    "    # Mostrare l'istogramma\n",
    "    plt.savefig(title.replace(\" \", \"\"))\n",
    "    plt.show()\n",
    "    \n",
    "def gen_table(v):\n",
    "    righe = [[str(e[0]), str(e[1])] for e in v]\n",
    "    larghezza_colonna1 = max(len(r[0]) for r in righe)\n",
    "    larghezza_colonna2 = max(len(r[1]) for r in righe)\n",
    "    # Aggiunge spazi vuoti alle colonne se necessario per allineare i valori\n",
    "    righe_allineate = [f\"{r[0]:<{larghezza_colonna1}}  {r[1]:<{larghezza_colonna2}}\" for r in righe]\n",
    "    # Unisce le righe in una stringa separata da '\\n' per creare la tabella\n",
    "    tabella = '\\n'.join(righe_allineate)\n",
    "    # Stampa la tabella\n",
    "    print(tabella)\n"
   ]
  },
  {
   "cell_type": "code",
   "execution_count": null,
   "metadata": {},
   "outputs": [],
   "source": [
    "\n",
    "query_sel = get_queries(filename, \"0\")\n",
    "\n",
    "gen_isto_perc(query_sel, 12, 3, \"Query 1\")\n",
    "\n"
   ]
  },
  {
   "cell_type": "code",
   "execution_count": null,
   "metadata": {},
   "outputs": [],
   "source": [
    "\n",
    "query_sel = get_queries(filename, \"1\")\n",
    "\n",
    "gen_isto_perc(query_sel, 12, 3, \"Query 2\")"
   ]
  },
  {
   "cell_type": "code",
   "execution_count": null,
   "metadata": {},
   "outputs": [],
   "source": [
    "\n",
    "query_sel = get_queries(filename, \"2\")\n",
    "\n",
    "gen_isto_perc(query_sel, 12, 3, \"Query 3\")"
   ]
  },
  {
   "cell_type": "code",
   "execution_count": null,
   "metadata": {},
   "outputs": [],
   "source": [
    "\n",
    "query_sel = get_queries(filename, \"3\")\n",
    "\n",
    "gen_isto_perc(query_sel, 12, 3, \"Query 4\")"
   ]
  },
  {
   "cell_type": "code",
   "execution_count": null,
   "metadata": {},
   "outputs": [],
   "source": [
    "\n",
    "query_sel = get_queries(filename, \"4\")\n",
    "\n",
    "gen_isto_perc(query_sel, 12, 3, \"Query 5\")"
   ]
  },
  {
   "cell_type": "code",
   "execution_count": null,
   "metadata": {},
   "outputs": [],
   "source": [
    "\n",
    "query_sel = get_queries(filename, \"5\")\n",
    "\n",
    "gen_isto_perc(query_sel, 12, 3, \"Query 6\")"
   ]
  },
  {
   "cell_type": "code",
   "execution_count": null,
   "metadata": {},
   "outputs": [],
   "source": [
    "\n",
    "query_sel = get_queries(filename, \"6\")\n",
    "\n",
    "gen_isto_perc(query_sel, 12, 3, \"Query 7\")"
   ]
  },
  {
   "cell_type": "code",
   "execution_count": null,
   "metadata": {},
   "outputs": [],
   "source": [
    "\n",
    "query_sel = get_queries(filename, \"7\")\n",
    "\n",
    "gen_isto_perc(query_sel, 12, 3, \"Query 8\")"
   ]
  },
  {
   "cell_type": "code",
   "execution_count": null,
   "metadata": {},
   "outputs": [],
   "source": [
    "\n",
    "query_sel = get_queries(filename, \"8\")\n",
    "\n",
    "gen_isto_perc(query_sel, 12, 3, \"Query 9\")\n"
   ]
  },
  {
   "cell_type": "markdown",
   "metadata": {},
   "source": []
  }
 ],
 "metadata": {
  "kernelspec": {
   "display_name": "code_env",
   "language": "python",
   "name": "python3"
  },
  "language_info": {
   "codemirror_mode": {
    "name": "ipython",
    "version": 3
   },
   "file_extension": ".py",
   "mimetype": "text/x-python",
   "name": "python",
   "nbconvert_exporter": "python",
   "pygments_lexer": "ipython3",
   "version": "3.9.16"
  },
  "orig_nbformat": 4
 },
 "nbformat": 4,
 "nbformat_minor": 2
}
